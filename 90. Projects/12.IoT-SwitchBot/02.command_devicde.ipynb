{
 "cells": [
  {
   "cell_type": "code",
   "execution_count": null,
   "metadata": {},
   "outputs": [],
   "source": [
    "# 셀 1: 필수 라이브러리 및 설정\n",
    "import requests\n",
    "import time\n",
    "import hashlib\n",
    "import hmac\n",
    "import base64\n",
    "\n",
    "# SwitchBot API 정보\n",
    "TOKEN = \"YOUR_OPEN_TOKEN\"  # 발급받은 Open Token\n",
    "SECRET = \"YOUR_SECRET_KEY\"  # 발급받은 Secret Key\n",
    "BASE_URL = \"https://api.switch-bot.com/v1.1\"\n",
    "\n",
    "# 제어할 디바이스 ID (봇 1)\n",
    "DEVICE_ID = \"DEVICE_ID\"\n",
    "\n",
    "# 요청 헤더 생성 함수\n",
    "def generate_headers():\n",
    "    t = str(int(time.time() * 1000))  # 현재 timestamp (밀리초)\n",
    "    nonce = \"\"  # nonce는 비워도 됨\n",
    "    \n",
    "    # Sign 생성 (HMAC-SHA256 방식)\n",
    "    string_to_sign = f\"{TOKEN}{t}{nonce}\"\n",
    "    sign = base64.b64encode(\n",
    "        hmac.new(SECRET.encode(), string_to_sign.encode(), hashlib.sha256).digest()\n",
    "    ).decode()\n",
    "\n",
    "    headers = {\n",
    "        \"Authorization\": TOKEN,\n",
    "        \"Content-Type\": \"application/json\",\n",
    "        \"t\": t,\n",
    "        \"sign\": sign,\n",
    "        \"nonce\": nonce,\n",
    "    }\n",
    "    return headers\n",
    "\n",
    "# 디바이스 제어 함수\n",
    "def send_command(device_id, command):\n",
    "    url = f\"{BASE_URL}/devices/{device_id}/commands\"\n",
    "    headers = generate_headers()\n",
    "    data = {\n",
    "        \"command\": command,\n",
    "        \"parameter\": \"default\",\n",
    "        \"commandType\": \"command\"\n",
    "    }\n",
    "    \n",
    "    response = requests.post(url, headers=headers, json=data)\n",
    "    \n",
    "    if response.status_code == 200:\n",
    "        print(response.json())  # JSON 응답 출력\n",
    "    else:\n",
    "        print({\"error\": response.status_code, \"message\": response.text})\n"
   ]
  },
  {
   "cell_type": "code",
   "execution_count": 4,
   "metadata": {},
   "outputs": [
    {
     "name": "stdout",
     "output_type": "stream",
     "text": [
      "{'error': 401, 'message': '{\"message\":\"Unauthorized\"}'}\n"
     ]
    }
   ],
   "source": [
    "# 셀 2: 봇 켜기\n",
    "send_command(DEVICE_ID, \"turnOn\")"
   ]
  },
  {
   "cell_type": "code",
   "execution_count": null,
   "metadata": {},
   "outputs": [],
   "source": [
    "# 셀 3: 봇 끄기\n",
    "send_command(DEVICE_ID, \"turnOff\")"
   ]
  },
  {
   "cell_type": "code",
   "execution_count": null,
   "metadata": {},
   "outputs": [],
   "source": [
    "# 셀 4: 봇 누르기\n",
    "send_command(DEVICE_ID, \"press\")"
   ]
  }
 ],
 "metadata": {
  "kernelspec": {
   "display_name": "Python 3",
   "language": "python",
   "name": "python3"
  },
  "language_info": {
   "codemirror_mode": {
    "name": "ipython",
    "version": 3
   },
   "file_extension": ".py",
   "mimetype": "text/x-python",
   "name": "python",
   "nbconvert_exporter": "python",
   "pygments_lexer": "ipython3",
   "version": "3.10.6"
  }
 },
 "nbformat": 4,
 "nbformat_minor": 2
}
